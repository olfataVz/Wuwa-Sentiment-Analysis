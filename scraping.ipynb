{
 "cells": [
  {
   "cell_type": "code",
   "execution_count": 13,
   "id": "7717e3f2",
   "metadata": {},
   "outputs": [],
   "source": [
    "from google_play_scraper import Sort, reviews_all\n",
    " \n",
    "import pandas as pd  \n",
    "pd.options.mode.chained_assignment = None \n",
    "import numpy as np  \n",
    "seed = 0\n",
    "np.random.seed(seed)  "
   ]
  },
  {
   "cell_type": "code",
   "execution_count": 14,
   "id": "7b0aface",
   "metadata": {},
   "outputs": [],
   "source": [
    "# Mengambil semua ulasan dari aplikasi dengan ID 'com.kurogame.wutheringwaves.global' di Google Play Store.\n",
    "# Proses scraping mungkin memerlukan beberapa saat tergantung pada jumlah ulasan yang ada.\n",
    "scrapreview = reviews_all(\n",
    "    'com.kurogame.wutheringwaves.global',\n",
    "    lang='id',\n",
    "    country='id',\n",
    "    sort=Sort.MOST_RELEVANT,\n",
    "    count=1000\n",
    ")"
   ]
  },
  {
   "cell_type": "code",
   "execution_count": 15,
   "id": "c369140c",
   "metadata": {},
   "outputs": [
    {
     "name": "stdout",
     "output_type": "stream",
     "text": [
      "(22429, 11)\n",
      "                               reviewId         userName  \\\n",
      "0  4e021c1c-46c2-42d7-91d1-6f5dd67dd2da  Pengguna Google   \n",
      "1  f892df27-52af-42a8-b15b-e3514267b49c  Pengguna Google   \n",
      "2  7a1fe121-e70b-4750-a969-282dd372ff19  Pengguna Google   \n",
      "3  efdd3060-517d-4a12-b4d0-517fb2e9df3f  Pengguna Google   \n",
      "4  1ae1075e-915f-4ad1-aa6f-0dc090c0799f  Pengguna Google   \n",
      "\n",
      "                                           userImage  \\\n",
      "0  https://play-lh.googleusercontent.com/EGemoI2N...   \n",
      "1  https://play-lh.googleusercontent.com/EGemoI2N...   \n",
      "2  https://play-lh.googleusercontent.com/EGemoI2N...   \n",
      "3  https://play-lh.googleusercontent.com/EGemoI2N...   \n",
      "4  https://play-lh.googleusercontent.com/EGemoI2N...   \n",
      "\n",
      "                                             content  score  thumbsUpCount  \\\n",
      "0  (1)Design NPC & ekspresinya wajahnya bagus bgt...      5              7   \n",
      "1  gamenya udah bagus dari segi grafiknya aku suk...      5            202   \n",
      "2  ini game dari segi story mantap, eksplorasi se...      5              2   \n",
      "3  game yang sangat bagus dari segi story,musik,g...      5             78   \n",
      "4  good gameee, aku suka cara explore nya juga en...      5              0   \n",
      "\n",
      "  reviewCreatedVersion                  at replyContent repliedAt appVersion  \n",
      "0                2.1.0 2025-03-27 03:58:26         None       NaT      2.1.0  \n",
      "1                2.1.0 2025-03-23 19:57:27         None       NaT      2.1.0  \n",
      "2                2.2.0 2025-04-06 20:30:20         None       NaT      2.2.0  \n",
      "3                2.1.0 2025-03-25 11:34:07         None       NaT      2.1.0  \n",
      "4                2.2.0 2025-04-09 05:51:42         None       NaT      2.2.0  \n"
     ]
    }
   ],
   "source": [
    "app_reviews_df = pd.DataFrame(scrapreview)\n",
    "print(app_reviews_df.shape)\n",
    "print(app_reviews_df.head())"
   ]
  },
  {
   "cell_type": "code",
   "execution_count": 16,
   "id": "27e7e61b",
   "metadata": {},
   "outputs": [
    {
     "data": {
      "text/html": [
       "<div>\n",
       "<style scoped>\n",
       "    .dataframe tbody tr th:only-of-type {\n",
       "        vertical-align: middle;\n",
       "    }\n",
       "\n",
       "    .dataframe tbody tr th {\n",
       "        vertical-align: top;\n",
       "    }\n",
       "\n",
       "    .dataframe thead th {\n",
       "        text-align: right;\n",
       "    }\n",
       "</style>\n",
       "<table border=\"1\" class=\"dataframe\">\n",
       "  <thead>\n",
       "    <tr style=\"text-align: right;\">\n",
       "      <th></th>\n",
       "      <th>reviewId</th>\n",
       "      <th>userName</th>\n",
       "      <th>userImage</th>\n",
       "      <th>content</th>\n",
       "      <th>score</th>\n",
       "      <th>thumbsUpCount</th>\n",
       "      <th>reviewCreatedVersion</th>\n",
       "      <th>at</th>\n",
       "      <th>replyContent</th>\n",
       "      <th>repliedAt</th>\n",
       "      <th>appVersion</th>\n",
       "    </tr>\n",
       "  </thead>\n",
       "  <tbody>\n",
       "    <tr>\n",
       "      <th>0</th>\n",
       "      <td>4e021c1c-46c2-42d7-91d1-6f5dd67dd2da</td>\n",
       "      <td>Pengguna Google</td>\n",
       "      <td>https://play-lh.googleusercontent.com/EGemoI2N...</td>\n",
       "      <td>(1)Design NPC &amp; ekspresinya wajahnya bagus bgt...</td>\n",
       "      <td>5</td>\n",
       "      <td>7</td>\n",
       "      <td>2.1.0</td>\n",
       "      <td>2025-03-27 03:58:26</td>\n",
       "      <td>None</td>\n",
       "      <td>NaT</td>\n",
       "      <td>2.1.0</td>\n",
       "    </tr>\n",
       "    <tr>\n",
       "      <th>1</th>\n",
       "      <td>f892df27-52af-42a8-b15b-e3514267b49c</td>\n",
       "      <td>Pengguna Google</td>\n",
       "      <td>https://play-lh.googleusercontent.com/EGemoI2N...</td>\n",
       "      <td>gamenya udah bagus dari segi grafiknya aku suk...</td>\n",
       "      <td>5</td>\n",
       "      <td>202</td>\n",
       "      <td>2.1.0</td>\n",
       "      <td>2025-03-23 19:57:27</td>\n",
       "      <td>None</td>\n",
       "      <td>NaT</td>\n",
       "      <td>2.1.0</td>\n",
       "    </tr>\n",
       "    <tr>\n",
       "      <th>2</th>\n",
       "      <td>7a1fe121-e70b-4750-a969-282dd372ff19</td>\n",
       "      <td>Pengguna Google</td>\n",
       "      <td>https://play-lh.googleusercontent.com/EGemoI2N...</td>\n",
       "      <td>ini game dari segi story mantap, eksplorasi se...</td>\n",
       "      <td>5</td>\n",
       "      <td>2</td>\n",
       "      <td>2.2.0</td>\n",
       "      <td>2025-04-06 20:30:20</td>\n",
       "      <td>None</td>\n",
       "      <td>NaT</td>\n",
       "      <td>2.2.0</td>\n",
       "    </tr>\n",
       "    <tr>\n",
       "      <th>3</th>\n",
       "      <td>efdd3060-517d-4a12-b4d0-517fb2e9df3f</td>\n",
       "      <td>Pengguna Google</td>\n",
       "      <td>https://play-lh.googleusercontent.com/EGemoI2N...</td>\n",
       "      <td>game yang sangat bagus dari segi story,musik,g...</td>\n",
       "      <td>5</td>\n",
       "      <td>78</td>\n",
       "      <td>2.1.0</td>\n",
       "      <td>2025-03-25 11:34:07</td>\n",
       "      <td>None</td>\n",
       "      <td>NaT</td>\n",
       "      <td>2.1.0</td>\n",
       "    </tr>\n",
       "    <tr>\n",
       "      <th>4</th>\n",
       "      <td>1ae1075e-915f-4ad1-aa6f-0dc090c0799f</td>\n",
       "      <td>Pengguna Google</td>\n",
       "      <td>https://play-lh.googleusercontent.com/EGemoI2N...</td>\n",
       "      <td>good gameee, aku suka cara explore nya juga en...</td>\n",
       "      <td>5</td>\n",
       "      <td>0</td>\n",
       "      <td>2.2.0</td>\n",
       "      <td>2025-04-09 05:51:42</td>\n",
       "      <td>None</td>\n",
       "      <td>NaT</td>\n",
       "      <td>2.2.0</td>\n",
       "    </tr>\n",
       "  </tbody>\n",
       "</table>\n",
       "</div>"
      ],
      "text/plain": [
       "                               reviewId         userName  \\\n",
       "0  4e021c1c-46c2-42d7-91d1-6f5dd67dd2da  Pengguna Google   \n",
       "1  f892df27-52af-42a8-b15b-e3514267b49c  Pengguna Google   \n",
       "2  7a1fe121-e70b-4750-a969-282dd372ff19  Pengguna Google   \n",
       "3  efdd3060-517d-4a12-b4d0-517fb2e9df3f  Pengguna Google   \n",
       "4  1ae1075e-915f-4ad1-aa6f-0dc090c0799f  Pengguna Google   \n",
       "\n",
       "                                           userImage  \\\n",
       "0  https://play-lh.googleusercontent.com/EGemoI2N...   \n",
       "1  https://play-lh.googleusercontent.com/EGemoI2N...   \n",
       "2  https://play-lh.googleusercontent.com/EGemoI2N...   \n",
       "3  https://play-lh.googleusercontent.com/EGemoI2N...   \n",
       "4  https://play-lh.googleusercontent.com/EGemoI2N...   \n",
       "\n",
       "                                             content  score  thumbsUpCount  \\\n",
       "0  (1)Design NPC & ekspresinya wajahnya bagus bgt...      5              7   \n",
       "1  gamenya udah bagus dari segi grafiknya aku suk...      5            202   \n",
       "2  ini game dari segi story mantap, eksplorasi se...      5              2   \n",
       "3  game yang sangat bagus dari segi story,musik,g...      5             78   \n",
       "4  good gameee, aku suka cara explore nya juga en...      5              0   \n",
       "\n",
       "  reviewCreatedVersion                  at replyContent repliedAt appVersion  \n",
       "0                2.1.0 2025-03-27 03:58:26         None       NaT      2.1.0  \n",
       "1                2.1.0 2025-03-23 19:57:27         None       NaT      2.1.0  \n",
       "2                2.2.0 2025-04-06 20:30:20         None       NaT      2.2.0  \n",
       "3                2.1.0 2025-03-25 11:34:07         None       NaT      2.1.0  \n",
       "4                2.2.0 2025-04-09 05:51:42         None       NaT      2.2.0  "
      ]
     },
     "execution_count": 16,
     "metadata": {},
     "output_type": "execute_result"
    }
   ],
   "source": [
    "app_reviews_df.head()"
   ]
  },
  {
   "cell_type": "code",
   "execution_count": 17,
   "id": "7b595430",
   "metadata": {},
   "outputs": [
    {
     "name": "stdout",
     "output_type": "stream",
     "text": [
      "<class 'pandas.core.frame.DataFrame'>\n",
      "RangeIndex: 22429 entries, 0 to 22428\n",
      "Data columns (total 11 columns):\n",
      " #   Column                Non-Null Count  Dtype         \n",
      "---  ------                --------------  -----         \n",
      " 0   reviewId              22429 non-null  object        \n",
      " 1   userName              22429 non-null  object        \n",
      " 2   userImage             22429 non-null  object        \n",
      " 3   content               22429 non-null  object        \n",
      " 4   score                 22429 non-null  int64         \n",
      " 5   thumbsUpCount         22429 non-null  int64         \n",
      " 6   reviewCreatedVersion  16930 non-null  object        \n",
      " 7   at                    22429 non-null  datetime64[ns]\n",
      " 8   replyContent          2 non-null      object        \n",
      " 9   repliedAt             2 non-null      datetime64[ns]\n",
      " 10  appVersion            16930 non-null  object        \n",
      "dtypes: datetime64[ns](2), int64(2), object(7)\n",
      "memory usage: 1.9+ MB\n"
     ]
    }
   ],
   "source": [
    "app_reviews_df.info()"
   ]
  },
  {
   "cell_type": "code",
   "execution_count": 18,
   "id": "74824e6b",
   "metadata": {},
   "outputs": [],
   "source": [
    "clean_df = app_reviews_df.drop(columns=['replyContent', 'repliedAt'])"
   ]
  },
  {
   "cell_type": "code",
   "execution_count": 19,
   "id": "114bd41c",
   "metadata": {},
   "outputs": [],
   "source": [
    "# Menghapus baris duplikat dari DataFrame clean_df\n",
    "clean_df = clean_df.drop_duplicates()\n",
    " \n",
    "# Menghitung jumlah baris dan kolom dalam DataFrame clean_df setelah menghapus duplikat\n",
    "jumlah_ulasan_setelah_hapus_duplikat, jumlah_kolom_setelah_hapus_duplikat = clean_df.shape"
   ]
  },
  {
   "cell_type": "code",
   "execution_count": 20,
   "id": "3b339434",
   "metadata": {},
   "outputs": [
    {
     "name": "stdout",
     "output_type": "stream",
     "text": [
      "<class 'pandas.core.frame.DataFrame'>\n",
      "RangeIndex: 22429 entries, 0 to 22428\n",
      "Data columns (total 9 columns):\n",
      " #   Column                Non-Null Count  Dtype         \n",
      "---  ------                --------------  -----         \n",
      " 0   reviewId              22429 non-null  object        \n",
      " 1   userName              22429 non-null  object        \n",
      " 2   userImage             22429 non-null  object        \n",
      " 3   content               22429 non-null  object        \n",
      " 4   score                 22429 non-null  int64         \n",
      " 5   thumbsUpCount         22429 non-null  int64         \n",
      " 6   reviewCreatedVersion  16930 non-null  object        \n",
      " 7   at                    22429 non-null  datetime64[ns]\n",
      " 8   appVersion            16930 non-null  object        \n",
      "dtypes: datetime64[ns](1), int64(2), object(6)\n",
      "memory usage: 1.5+ MB\n"
     ]
    }
   ],
   "source": [
    "clean_df.info()"
   ]
  },
  {
   "cell_type": "code",
   "execution_count": 21,
   "id": "3b417458",
   "metadata": {},
   "outputs": [
    {
     "name": "stdout",
     "output_type": "stream",
     "text": [
      "Modus dari appVersion: 1.0.0\n",
      "Modus dari reviewCreatedVersion: 1.0.0\n"
     ]
    }
   ],
   "source": [
    "most_common_app_version = clean_df['appVersion'].mode()[0]\n",
    "most_common_review_version = clean_df['reviewCreatedVersion'].mode()[0]\n",
    "\n",
    "# Menampilkan hasilnya\n",
    "print(f\"Modus dari appVersion: {most_common_app_version}\")\n",
    "print(f\"Modus dari reviewCreatedVersion: {most_common_review_version}\")\n"
   ]
  },
  {
   "cell_type": "code",
   "execution_count": 22,
   "id": "2a2927c3",
   "metadata": {},
   "outputs": [
    {
     "name": "stdout",
     "output_type": "stream",
     "text": [
      "<class 'pandas.core.frame.DataFrame'>\n",
      "RangeIndex: 22429 entries, 0 to 22428\n",
      "Data columns (total 9 columns):\n",
      " #   Column                Non-Null Count  Dtype         \n",
      "---  ------                --------------  -----         \n",
      " 0   reviewId              22429 non-null  object        \n",
      " 1   userName              22429 non-null  object        \n",
      " 2   userImage             22429 non-null  object        \n",
      " 3   content               22429 non-null  object        \n",
      " 4   score                 22429 non-null  int64         \n",
      " 5   thumbsUpCount         22429 non-null  int64         \n",
      " 6   reviewCreatedVersion  22429 non-null  object        \n",
      " 7   at                    22429 non-null  datetime64[ns]\n",
      " 8   appVersion            22429 non-null  object        \n",
      "dtypes: datetime64[ns](1), int64(2), object(6)\n",
      "memory usage: 1.5+ MB\n"
     ]
    }
   ],
   "source": [
    "clean_df['appVersion'] = clean_df['appVersion'].fillna(most_common_app_version)\n",
    "clean_df['reviewCreatedVersion'] = clean_df['reviewCreatedVersion'].fillna(most_common_review_version)\n",
    "\n",
    "clean_df.info()"
   ]
  },
  {
   "cell_type": "code",
   "execution_count": 23,
   "id": "a8f5bf1d",
   "metadata": {},
   "outputs": [],
   "source": [
    "# clean_df.to_csv('wuwa_clean.csv', index=False)"
   ]
  }
 ],
 "metadata": {
  "kernelspec": {
   "display_name": "Python 3",
   "language": "python",
   "name": "python3"
  },
  "language_info": {
   "codemirror_mode": {
    "name": "ipython",
    "version": 3
   },
   "file_extension": ".py",
   "mimetype": "text/x-python",
   "name": "python",
   "nbconvert_exporter": "python",
   "pygments_lexer": "ipython3",
   "version": "3.13.2"
  }
 },
 "nbformat": 4,
 "nbformat_minor": 5
}
